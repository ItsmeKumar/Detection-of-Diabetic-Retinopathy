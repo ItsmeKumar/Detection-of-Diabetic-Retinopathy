{
  "nbformat": 4,
  "nbformat_minor": 0,
  "metadata": {
    "colab": {
      "name": "xception.ipynb",
      "provenance": [],
      "include_colab_link": true
    },
    "kernelspec": {
      "name": "python3",
      "display_name": "Python 3"
    },
    "accelerator": "GPU"
  },
  "cells": [
    {
      "cell_type": "markdown",
      "metadata": {
        "id": "view-in-github",
        "colab_type": "text"
      },
      "source": [
        "<a href=\"https://colab.research.google.com/github/anishnarkar/DS5500-Project2/blob/master/xception.ipynb\" target=\"_parent\"><img src=\"https://colab.research.google.com/assets/colab-badge.svg\" alt=\"Open In Colab\"/></a>"
      ]
    },
    {
      "cell_type": "code",
      "metadata": {
        "id": "Gz1IPcaJ9FCq",
        "colab_type": "code",
        "outputId": "e0166391-d09f-42ce-8a39-845232e9ab7f",
        "colab": {
          "base_uri": "https://localhost:8080/",
          "height": 121
        }
      },
      "source": [
        "from google.colab import drive\n",
        "drive.mount('/content/drive')"
      ],
      "execution_count": 0,
      "outputs": [
        {
          "output_type": "stream",
          "text": [
            "Go to this URL in a browser: https://accounts.google.com/o/oauth2/auth?client_id=947318989803-6bn6qk8qdgf4n4g3pfee6491hc0brc4i.apps.googleusercontent.com&redirect_uri=urn%3aietf%3awg%3aoauth%3a2.0%3aoob&response_type=code&scope=email%20https%3a%2f%2fwww.googleapis.com%2fauth%2fdocs.test%20https%3a%2f%2fwww.googleapis.com%2fauth%2fdrive%20https%3a%2f%2fwww.googleapis.com%2fauth%2fdrive.photos.readonly%20https%3a%2f%2fwww.googleapis.com%2fauth%2fpeopleapi.readonly\n",
            "\n",
            "Enter your authorization code:\n",
            "··········\n",
            "Mounted at /content/drive\n"
          ],
          "name": "stdout"
        }
      ]
    },
    {
      "cell_type": "code",
      "metadata": {
        "id": "M_iw9FKxhGN8",
        "colab_type": "code",
        "colab": {}
      },
      "source": [
        "import numpy as np # linear algebra\n",
        "import pandas as pd # data processing, CSV file I/O (e.g. pd.read_csv)\n",
        "import sklearn\n",
        "from sklearn.model_selection import train_test_split\n",
        "from sklearn.utils import shuffle\n",
        "import cv2\n",
        "import matplotlib.pyplot as plt\n",
        "%matplotlib inline"
      ],
      "execution_count": 0,
      "outputs": []
    },
    {
      "cell_type": "code",
      "metadata": {
        "id": "1muVZranknLb",
        "colab_type": "code",
        "outputId": "7d69eb4b-faa7-4084-80c6-d3185d6ce05b",
        "colab": {
          "base_uri": "https://localhost:8080/",
          "height": 79
        }
      },
      "source": [
        "import pandas as pd\n",
        "import numpy as np \n",
        "import matplotlib.pyplot as plt\n",
        "import os\n",
        "from urllib.request import urlopen,urlretrieve\n",
        "from PIL import Image\n",
        "from tqdm import tqdm_notebook\n",
        "%matplotlib inline\n",
        "from sklearn.utils import shuffle\n",
        "import cv2\n",
        "#from resnets_utils import *\n",
        "\n",
        "from keras.models import load_model\n",
        "from sklearn.datasets import load_files   \n",
        "from keras.utils import np_utils\n",
        "from glob import glob\n",
        "from keras import applications\n",
        "from keras.preprocessing.image import ImageDataGenerator \n",
        "from keras import optimizers\n",
        "from keras.models import Sequential,Model,load_model\n",
        "from keras.layers import Dense, Dropout, Flatten, Conv2D, MaxPool2D,GlobalAveragePooling2D\n",
        "from keras.callbacks import TensorBoard,ReduceLROnPlateau,ModelCheckpoint"
      ],
      "execution_count": 0,
      "outputs": [
        {
          "output_type": "stream",
          "text": [
            "Using TensorFlow backend.\n"
          ],
          "name": "stderr"
        },
        {
          "output_type": "display_data",
          "data": {
            "text/html": [
              "<p style=\"color: red;\">\n",
              "The default version of TensorFlow in Colab will soon switch to TensorFlow 2.x.<br>\n",
              "We recommend you <a href=\"https://www.tensorflow.org/guide/migrate\" target=\"_blank\">upgrade</a> now \n",
              "or ensure your notebook will continue to use TensorFlow 1.x via the <code>%tensorflow_version 1.x</code> magic:\n",
              "<a href=\"https://colab.research.google.com/notebooks/tensorflow_version.ipynb\" target=\"_blank\">more info</a>.</p>\n"
            ],
            "text/plain": [
              "<IPython.core.display.HTML object>"
            ]
          },
          "metadata": {
            "tags": []
          }
        }
      ]
    },
    {
      "cell_type": "code",
      "metadata": {
        "id": "48gRvjMVbUA0",
        "colab_type": "code",
        "colab": {}
      },
      "source": [
        "import time\n",
        "import tensorflow as tf\n",
        "from sklearn import metrics\n",
        "import pickle as pi\n",
        "from collections import Counter"
      ],
      "execution_count": 0,
      "outputs": []
    },
    {
      "cell_type": "code",
      "metadata": {
        "id": "vMz1njgMHmj4",
        "colab_type": "code",
        "outputId": "45dcbb8f-d175-4d38-d462-b89cb503c1a7",
        "colab": {
          "base_uri": "https://localhost:8080/",
          "height": 34
        }
      },
      "source": [
        "import gc\n",
        "gc.collect()"
      ],
      "execution_count": 0,
      "outputs": [
        {
          "output_type": "execute_result",
          "data": {
            "text/plain": [
              "239"
            ]
          },
          "metadata": {
            "tags": []
          },
          "execution_count": 7
        }
      ]
    },
    {
      "cell_type": "code",
      "metadata": {
        "id": "-gaWMryeFNkf",
        "colab_type": "code",
        "colab": {}
      },
      "source": [
        "file = open('/content/drive/My Drive/DS5500_Project_2/processed_images/merged_array_2', 'rb')\n",
        "merged_array = pi.load(file)\n",
        "file.close()"
      ],
      "execution_count": 0,
      "outputs": []
    },
    {
      "cell_type": "code",
      "metadata": {
        "id": "rTZuTYMzLWMK",
        "colab_type": "code",
        "outputId": "a15304f3-44f9-4514-efdf-f30b9babda26",
        "colab": {
          "base_uri": "https://localhost:8080/",
          "height": 34
        }
      },
      "source": [
        "np.shape(merged_array)"
      ],
      "execution_count": 0,
      "outputs": [
        {
          "output_type": "execute_result",
          "data": {
            "text/plain": [
              "(65507, 128, 128, 3)"
            ]
          },
          "metadata": {
            "tags": []
          },
          "execution_count": 32
        }
      ]
    },
    {
      "cell_type": "code",
      "metadata": {
        "id": "3MuyXZEgN6u9",
        "colab_type": "code",
        "outputId": "94e33f1d-b383-46ef-b539-9b62eaf208f2",
        "colab": {
          "base_uri": "https://localhost:8080/",
          "height": 229
        }
      },
      "source": [
        "# import pickle\n",
        "# f=open(\"/content/drive/My Drive/DS5500_Project_2/processed_images/merged_array\",\"rb\")\n",
        "# try:\n",
        "#     while True:\n",
        "#         x=pickle.load(f)\n",
        "#         # print x\n",
        "# except EOFError:\n",
        "#     pass\n",
        "# f.close()"
      ],
      "execution_count": 0,
      "outputs": [
        {
          "output_type": "error",
          "ename": "OSError",
          "evalue": "ignored",
          "traceback": [
            "\u001b[0;31m---------------------------------------------------------------------------\u001b[0m",
            "\u001b[0;31mOSError\u001b[0m                                   Traceback (most recent call last)",
            "\u001b[0;32m<ipython-input-9-82c21031d2ef>\u001b[0m in \u001b[0;36m<module>\u001b[0;34m()\u001b[0m\n\u001b[1;32m      3\u001b[0m \u001b[0;32mtry\u001b[0m\u001b[0;34m:\u001b[0m\u001b[0;34m\u001b[0m\u001b[0;34m\u001b[0m\u001b[0m\n\u001b[1;32m      4\u001b[0m     \u001b[0;32mwhile\u001b[0m \u001b[0;32mTrue\u001b[0m\u001b[0;34m:\u001b[0m\u001b[0;34m\u001b[0m\u001b[0;34m\u001b[0m\u001b[0m\n\u001b[0;32m----> 5\u001b[0;31m         \u001b[0mx\u001b[0m\u001b[0;34m=\u001b[0m\u001b[0mpickle\u001b[0m\u001b[0;34m.\u001b[0m\u001b[0mload\u001b[0m\u001b[0;34m(\u001b[0m\u001b[0mf\u001b[0m\u001b[0;34m)\u001b[0m\u001b[0;34m\u001b[0m\u001b[0;34m\u001b[0m\u001b[0m\n\u001b[0m\u001b[1;32m      6\u001b[0m         \u001b[0;31m# print x\u001b[0m\u001b[0;34m\u001b[0m\u001b[0;34m\u001b[0m\u001b[0;34m\u001b[0m\u001b[0m\n\u001b[1;32m      7\u001b[0m \u001b[0;32mexcept\u001b[0m \u001b[0mEOFError\u001b[0m\u001b[0;34m:\u001b[0m\u001b[0;34m\u001b[0m\u001b[0;34m\u001b[0m\u001b[0m\n",
            "\u001b[0;31mOSError\u001b[0m: [Errno 5] Input/output error"
          ]
        }
      ]
    },
    {
      "cell_type": "code",
      "metadata": {
        "id": "YWQ25KQFNKGT",
        "colab_type": "code",
        "outputId": "ae798bbe-91c7-4cd8-b477-0fde09eac9ce",
        "colab": {
          "base_uri": "https://localhost:8080/",
          "height": 195
        }
      },
      "source": [
        "# with open('/content/drive/My Drive/DS5500_Project_2/processed_images/merged_array', mode='rb') as file: # b is important -> binary\n",
        "#     merged_array = file.read()\n",
        "# np.shape(merged_array)"
      ],
      "execution_count": 0,
      "outputs": [
        {
          "output_type": "error",
          "ename": "OSError",
          "evalue": "ignored",
          "traceback": [
            "\u001b[0;31m---------------------------------------------------------------------------\u001b[0m",
            "\u001b[0;31mOSError\u001b[0m                                   Traceback (most recent call last)",
            "\u001b[0;32m<ipython-input-7-20f23beb47df>\u001b[0m in \u001b[0;36m<module>\u001b[0;34m()\u001b[0m\n\u001b[1;32m      1\u001b[0m \u001b[0;32mwith\u001b[0m \u001b[0mopen\u001b[0m\u001b[0;34m(\u001b[0m\u001b[0;34m'/content/drive/My Drive/DS5500_Project_2/processed_images/merged_array'\u001b[0m\u001b[0;34m,\u001b[0m \u001b[0mmode\u001b[0m\u001b[0;34m=\u001b[0m\u001b[0;34m'rb'\u001b[0m\u001b[0;34m)\u001b[0m \u001b[0;32mas\u001b[0m \u001b[0mfile\u001b[0m\u001b[0;34m:\u001b[0m \u001b[0;31m# b is important -> binary\u001b[0m\u001b[0;34m\u001b[0m\u001b[0;34m\u001b[0m\u001b[0m\n\u001b[0;32m----> 2\u001b[0;31m     \u001b[0mmerged_array\u001b[0m \u001b[0;34m=\u001b[0m \u001b[0mfile\u001b[0m\u001b[0;34m.\u001b[0m\u001b[0mread\u001b[0m\u001b[0;34m(\u001b[0m\u001b[0;34m)\u001b[0m\u001b[0;34m\u001b[0m\u001b[0;34m\u001b[0m\u001b[0m\n\u001b[0m\u001b[1;32m      3\u001b[0m \u001b[0mnp\u001b[0m\u001b[0;34m.\u001b[0m\u001b[0mshape\u001b[0m\u001b[0;34m(\u001b[0m\u001b[0mmerged_array\u001b[0m\u001b[0;34m)\u001b[0m\u001b[0;34m\u001b[0m\u001b[0;34m\u001b[0m\u001b[0m\n",
            "\u001b[0;31mOSError\u001b[0m: [Errno 5] Input/output error"
          ]
        }
      ]
    },
    {
      "cell_type": "code",
      "metadata": {
        "id": "f5pQCCKxFQ3S",
        "colab_type": "code",
        "colab": {}
      },
      "source": [
        "merged_labels = pd.read_csv('/content/drive/My Drive/DS5500_Project_2/processed_images/all_labels.csv')"
      ],
      "execution_count": 0,
      "outputs": []
    },
    {
      "cell_type": "code",
      "metadata": {
        "id": "LX5oF5FOTJZt",
        "colab_type": "code",
        "outputId": "db72bb87-e151-4f6c-ced6-84fe1dcf6a8d",
        "colab": {
          "base_uri": "https://localhost:8080/",
          "height": 402
        }
      },
      "source": [
        "# merged_array=new_array.copy()\n",
        "# np.shape(merged_array)\n",
        "# type(merged_labels)\n",
        "merged_labels"
      ],
      "execution_count": 0,
      "outputs": [
        {
          "output_type": "execute_result",
          "data": {
            "text/html": [
              "<div>\n",
              "<style scoped>\n",
              "    .dataframe tbody tr th:only-of-type {\n",
              "        vertical-align: middle;\n",
              "    }\n",
              "\n",
              "    .dataframe tbody tr th {\n",
              "        vertical-align: top;\n",
              "    }\n",
              "\n",
              "    .dataframe thead th {\n",
              "        text-align: right;\n",
              "    }\n",
              "</style>\n",
              "<table border=\"1\" class=\"dataframe\">\n",
              "  <thead>\n",
              "    <tr style=\"text-align: right;\">\n",
              "      <th></th>\n",
              "      <th>id_code</th>\n",
              "      <th>diagnosis</th>\n",
              "    </tr>\n",
              "  </thead>\n",
              "  <tbody>\n",
              "    <tr>\n",
              "      <th>0</th>\n",
              "      <td>000c1434d8d7</td>\n",
              "      <td>1</td>\n",
              "    </tr>\n",
              "    <tr>\n",
              "      <th>1</th>\n",
              "      <td>001639a390f0</td>\n",
              "      <td>1</td>\n",
              "    </tr>\n",
              "    <tr>\n",
              "      <th>2</th>\n",
              "      <td>0024cdab0c1e</td>\n",
              "      <td>0</td>\n",
              "    </tr>\n",
              "    <tr>\n",
              "      <th>3</th>\n",
              "      <td>002c21358ce6</td>\n",
              "      <td>0</td>\n",
              "    </tr>\n",
              "    <tr>\n",
              "      <th>4</th>\n",
              "      <td>005b95c28852</td>\n",
              "      <td>0</td>\n",
              "    </tr>\n",
              "    <tr>\n",
              "      <th>...</th>\n",
              "      <td>...</td>\n",
              "      <td>...</td>\n",
              "    </tr>\n",
              "    <tr>\n",
              "      <th>65502</th>\n",
              "      <td>22195_right</td>\n",
              "      <td>0</td>\n",
              "    </tr>\n",
              "    <tr>\n",
              "      <th>65503</th>\n",
              "      <td>22196_left</td>\n",
              "      <td>1</td>\n",
              "    </tr>\n",
              "    <tr>\n",
              "      <th>65504</th>\n",
              "      <td>22196_right</td>\n",
              "      <td>1</td>\n",
              "    </tr>\n",
              "    <tr>\n",
              "      <th>65505</th>\n",
              "      <td>22197_left</td>\n",
              "      <td>0</td>\n",
              "    </tr>\n",
              "    <tr>\n",
              "      <th>65506</th>\n",
              "      <td>22197_right</td>\n",
              "      <td>0</td>\n",
              "    </tr>\n",
              "  </tbody>\n",
              "</table>\n",
              "<p>65507 rows × 2 columns</p>\n",
              "</div>"
            ],
            "text/plain": [
              "            id_code  diagnosis\n",
              "0      000c1434d8d7          1\n",
              "1      001639a390f0          1\n",
              "2      0024cdab0c1e          0\n",
              "3      002c21358ce6          0\n",
              "4      005b95c28852          0\n",
              "...             ...        ...\n",
              "65502   22195_right          0\n",
              "65503    22196_left          1\n",
              "65504   22196_right          1\n",
              "65505    22197_left          0\n",
              "65506   22197_right          0\n",
              "\n",
              "[65507 rows x 2 columns]"
            ]
          },
          "metadata": {
            "tags": []
          },
          "execution_count": 50
        }
      ]
    },
    {
      "cell_type": "code",
      "metadata": {
        "id": "SPdHel7iUOUI",
        "colab_type": "code",
        "colab": {}
      },
      "source": [
        "merged_labels.loc[merged_labels['diagnosis'] == 1, 'diagnosis'] = 0\n",
        "merged_labels.loc[merged_labels['diagnosis'] == 2, 'diagnosis'] = 1\n",
        "merged_labels.loc[merged_labels['diagnosis'] == 3, 'diagnosis'] = 1\n",
        "merged_labels.loc[merged_labels['diagnosis'] == 4, 'diagnosis'] = 1"
      ],
      "execution_count": 0,
      "outputs": []
    },
    {
      "cell_type": "code",
      "metadata": {
        "id": "yKH79Z2JFTJk",
        "colab_type": "code",
        "colab": {}
      },
      "source": [
        "# Undersample each category to the size of count of least category\n",
        "\n",
        "sample_size = merged_labels['diagnosis'].value_counts().min()\n",
        "\n",
        "# sample_size=4000\n",
        "resampled_index = []\n",
        "for category in np.sort(merged_labels['diagnosis'].unique()):\n",
        "    temp_index = merged_labels[merged_labels['diagnosis']==category].sample(n=sample_size, replace=False, random_state=500).index\n",
        "    resampled_index += list(temp_index)\n",
        "\n",
        "merged_labels = merged_labels.loc[resampled_index,:]\n",
        "merged_array = merged_array[resampled_index]"
      ],
      "execution_count": 0,
      "outputs": []
    },
    {
      "cell_type": "code",
      "metadata": {
        "id": "ChJ2F-u5LidE",
        "colab_type": "code",
        "outputId": "e9697a81-f4f6-44fb-86b3-a56532acdcd0",
        "colab": {
          "base_uri": "https://localhost:8080/",
          "height": 34
        }
      },
      "source": [
        "np.shape(merged_array)"
      ],
      "execution_count": 0,
      "outputs": [
        {
          "output_type": "execute_result",
          "data": {
            "text/plain": [
              "(6000, 128, 128, 3)"
            ]
          },
          "metadata": {
            "tags": []
          },
          "execution_count": 55
        }
      ]
    },
    {
      "cell_type": "code",
      "metadata": {
        "id": "R38ODafGcf0k",
        "colab_type": "code",
        "colab": {}
      },
      "source": [
        "resampled_index = []\n",
        "temp_index = merged_labels[merged_labels['diagnosis']==0].sample(n=1500, replace=False, random_state=500).index\n",
        "resampled_index += list(temp_index)\n",
        "temp_index = merged_labels[merged_labels['diagnosis']==1].sample(n=1500, replace=False, random_state=500).index\n",
        "resampled_index += list(temp_index)\n",
        "temp_index = merged_labels[merged_labels['diagnosis']==2].sample(n=1000, replace=False, random_state=500).index\n",
        "resampled_index += list(temp_index)\n",
        "temp_index = merged_labels[merged_labels['diagnosis']==3].sample(n=1000, replace=False, random_state=500).index\n",
        "resampled_index += list(temp_index)\n",
        "temp_index = merged_labels[merged_labels['diagnosis']==4].sample(n=1000, replace=False, random_state=500).index\n",
        "resampled_index += list(temp_index)\n",
        "merged_labels = merged_labels.loc[resampled_index,:]\n",
        "merged_array = merged_array[resampled_index]\n"
      ],
      "execution_count": 0,
      "outputs": []
    },
    {
      "cell_type": "code",
      "metadata": {
        "id": "E7CaWWFbWBz6",
        "colab_type": "code",
        "outputId": "19b57bed-d217-41bb-d1c2-a3a35051c149",
        "colab": {
          "base_uri": "https://localhost:8080/",
          "height": 34
        }
      },
      "source": [
        "np.shape(merged_labels)"
      ],
      "execution_count": 0,
      "outputs": [
        {
          "output_type": "execute_result",
          "data": {
            "text/plain": [
              "(6000, 2)"
            ]
          },
          "metadata": {
            "tags": []
          },
          "execution_count": 56
        }
      ]
    },
    {
      "cell_type": "code",
      "metadata": {
        "id": "cQuf-TTDeWla",
        "colab_type": "code",
        "outputId": "9fefac3d-59f1-4a4e-b3c2-ef2335a7788d",
        "colab": {
          "base_uri": "https://localhost:8080/",
          "height": 34
        }
      },
      "source": [
        "print(Counter(y_test))"
      ],
      "execution_count": 0,
      "outputs": [
        {
          "output_type": "stream",
          "text": [
            "Counter({1: 611, 0: 589})\n"
          ],
          "name": "stdout"
        }
      ]
    },
    {
      "cell_type": "code",
      "metadata": {
        "id": "f71oTn6yFYsx",
        "colab_type": "code",
        "colab": {}
      },
      "source": [
        "X_train, X_test, y_train, y_test = train_test_split(merged_array, merged_labels['diagnosis'], test_size=0.2, random_state=500)\n",
        "\n",
        "X_train, X_val, y_train, y_val = train_test_split(X_train, y_train, test_size=0.25, random_state=500)"
      ],
      "execution_count": 0,
      "outputs": []
    },
    {
      "cell_type": "code",
      "metadata": {
        "id": "xBT77a7jTlZC",
        "colab_type": "code",
        "outputId": "791b26a7-b0e6-4186-9e8a-9bfe24c52ff3",
        "colab": {
          "base_uri": "https://localhost:8080/",
          "height": 34
        }
      },
      "source": [
        "np.shape(y_train)"
      ],
      "execution_count": 0,
      "outputs": [
        {
          "output_type": "execute_result",
          "data": {
            "text/plain": [
              "(3600,)"
            ]
          },
          "metadata": {
            "tags": []
          },
          "execution_count": 58
        }
      ]
    },
    {
      "cell_type": "code",
      "metadata": {
        "id": "ZR527kK095ri",
        "colab_type": "code",
        "colab": {}
      },
      "source": [
        "# file = open('/content/drive/My Drive/DS5500_Project_2/processed_images/512 by class/array_0.npy', 'rb')\n",
        "# merged_array = np.load(file)\n",
        "# file.close()\n"
      ],
      "execution_count": 0,
      "outputs": []
    },
    {
      "cell_type": "code",
      "metadata": {
        "id": "6TMfZPf_oScp",
        "colab_type": "code",
        "colab": {}
      },
      "source": [
        "from keras.utils import to_categorical"
      ],
      "execution_count": 0,
      "outputs": []
    },
    {
      "cell_type": "code",
      "metadata": {
        "id": "hXa81jVRcpzu",
        "colab_type": "code",
        "colab": {}
      },
      "source": [
        "train_labels = to_categorical(y_train, 2)\n",
        "val_labels = to_categorical(y_val, 2)\n",
        "test_labels= to_categorical(y_test,2)"
      ],
      "execution_count": 0,
      "outputs": []
    },
    {
      "cell_type": "code",
      "metadata": {
        "id": "cZ7j_ySEHBLC",
        "colab_type": "code",
        "outputId": "e61fa526-4e5d-453e-afe1-966d01f437bf",
        "colab": {
          "base_uri": "https://localhost:8080/",
          "height": 134
        }
      },
      "source": [
        "# np.shape(train_labels)\n",
        "test_labels"
      ],
      "execution_count": 0,
      "outputs": [
        {
          "output_type": "execute_result",
          "data": {
            "text/plain": [
              "array([[1., 0.],\n",
              "       [0., 1.],\n",
              "       [1., 0.],\n",
              "       ...,\n",
              "       [1., 0.],\n",
              "       [0., 1.],\n",
              "       [1., 0.]], dtype=float32)"
            ]
          },
          "metadata": {
            "tags": []
          },
          "execution_count": 60
        }
      ]
    },
    {
      "cell_type": "code",
      "metadata": {
        "id": "IbyJXGrihTFJ",
        "colab_type": "code",
        "colab": {}
      },
      "source": [
        "img_sz = 128\n",
        "\n",
        "# def load_input(labels, IMG_SIZE=img_sz):\n",
        "#   count=0\n",
        "#   data_set = np.empty((labels.shape[0], IMG_SIZE, IMG_SIZE, 3), dtype=np.uint8)\n",
        "#   for i, id_code in enumerate(labels):\n",
        "#     location=f\"/content/drive/My Drive/DS5500_Project_2/train_images/{id_code}.png\"\n",
        "#     image = cv2.imread(location)\n",
        "#     image = cv2.cvtColor(image, cv2.COLOR_BGR2RGB)\n",
        "#     image = cv2.resize(image, (IMG_SIZE, IMG_SIZE))\n",
        "#     data_set[i, :, :, :] = image\n",
        "#     count+=1\n",
        "#     if(count%100==0):\n",
        "#       print(count)\n",
        "#   return data_set"
      ],
      "execution_count": 0,
      "outputs": []
    },
    {
      "cell_type": "code",
      "metadata": {
        "id": "G99cBNrJhTLb",
        "colab_type": "code",
        "outputId": "eefec846-dfb0-47c7-8087-d01ae4371b45",
        "colab": {
          "base_uri": "https://localhost:8080/",
          "height": 766
        }
      },
      "source": [
        "# print(\"loading training set\")\n",
        "# train_set = load_input(labels = train_x, IMG_SIZE=128)\n",
        "# print(\"loading val set\")\n",
        "# val_set = load_input(labels = valid_x, IMG_SIZE=128)\n",
        "# train_labels = train_labels\n",
        "# val_labels = val_labels"
      ],
      "execution_count": 0,
      "outputs": [
        {
          "output_type": "stream",
          "text": [
            "loading training set\n",
            "100\n",
            "200\n",
            "300\n",
            "400\n",
            "500\n",
            "600\n",
            "700\n",
            "800\n",
            "900\n",
            "1000\n",
            "1100\n",
            "1200\n",
            "1300\n",
            "1400\n",
            "1500\n",
            "1600\n",
            "1700\n",
            "1800\n",
            "1900\n",
            "2000\n",
            "2100\n",
            "2200\n",
            "2300\n",
            "2400\n",
            "2500\n",
            "2600\n",
            "2700\n",
            "2800\n",
            "2900\n",
            "3000\n",
            "3100\n"
          ],
          "name": "stdout"
        },
        {
          "output_type": "error",
          "ename": "NameError",
          "evalue": "ignored",
          "traceback": [
            "\u001b[0;31m---------------------------------------------------------------------------\u001b[0m",
            "\u001b[0;31mNameError\u001b[0m                                 Traceback (most recent call last)",
            "\u001b[0;32m<ipython-input-22-c533d958dd27>\u001b[0m in \u001b[0;36m<module>\u001b[0;34m()\u001b[0m\n\u001b[1;32m      1\u001b[0m \u001b[0mprint\u001b[0m\u001b[0;34m(\u001b[0m\u001b[0;34m\"loading training set\"\u001b[0m\u001b[0;34m)\u001b[0m\u001b[0;34m\u001b[0m\u001b[0;34m\u001b[0m\u001b[0m\n\u001b[1;32m      2\u001b[0m \u001b[0mtrain_set\u001b[0m \u001b[0;34m=\u001b[0m \u001b[0mload_input\u001b[0m\u001b[0;34m(\u001b[0m\u001b[0mlabels\u001b[0m \u001b[0;34m=\u001b[0m \u001b[0mtrain_x\u001b[0m\u001b[0;34m,\u001b[0m \u001b[0mIMG_SIZE\u001b[0m\u001b[0;34m=\u001b[0m\u001b[0;36m128\u001b[0m\u001b[0;34m)\u001b[0m\u001b[0;34m\u001b[0m\u001b[0;34m\u001b[0m\u001b[0m\n\u001b[0;32m----> 3\u001b[0;31m \u001b[0mPrint\u001b[0m\u001b[0;34m(\u001b[0m\u001b[0;34m\"loading val set\"\u001b[0m\u001b[0;34m)\u001b[0m\u001b[0;34m\u001b[0m\u001b[0;34m\u001b[0m\u001b[0m\n\u001b[0m\u001b[1;32m      4\u001b[0m \u001b[0mval_set\u001b[0m \u001b[0;34m=\u001b[0m \u001b[0mload_input\u001b[0m\u001b[0;34m(\u001b[0m\u001b[0mlabels\u001b[0m \u001b[0;34m=\u001b[0m \u001b[0mvalid_x\u001b[0m\u001b[0;34m,\u001b[0m \u001b[0mIMG_SIZE\u001b[0m\u001b[0;34m=\u001b[0m\u001b[0;36m128\u001b[0m\u001b[0;34m)\u001b[0m\u001b[0;34m\u001b[0m\u001b[0;34m\u001b[0m\u001b[0m\n\u001b[1;32m      5\u001b[0m \u001b[0mtrain_labels\u001b[0m \u001b[0;34m=\u001b[0m \u001b[0mtrain_labels\u001b[0m\u001b[0;34m\u001b[0m\u001b[0;34m\u001b[0m\u001b[0m\n",
            "\u001b[0;31mNameError\u001b[0m: name 'Print' is not defined"
          ]
        }
      ]
    },
    {
      "cell_type": "code",
      "metadata": {
        "id": "nbNbXmroY3dk",
        "colab_type": "code",
        "colab": {}
      },
      "source": [
        "# import pickle as pi\n",
        "# file = open('/content/drive/My Drive/DS5500_Project_2/processed_images/train_set_col_res', 'wb')\n",
        "# pi.dump(train_set, file)\n",
        "# file.close()\n",
        "\n",
        "# file = open('/content/drive/My Drive/DS5500_Project_2/processed_images/val_set_col_res', 'wb')\n",
        "# pi.dump(val_set, file)\n",
        "# file.close()\n"
      ],
      "execution_count": 0,
      "outputs": []
    },
    {
      "cell_type": "code",
      "metadata": {
        "id": "TUTc1Y7MPoLT",
        "colab_type": "code",
        "outputId": "d32b78f8-ace4-4ad9-f1fc-9b22ec5fd8bd",
        "colab": {
          "base_uri": "https://localhost:8080/",
          "height": 34
        }
      },
      "source": [
        "np.shape(X_val)"
      ],
      "execution_count": 0,
      "outputs": [
        {
          "output_type": "execute_result",
          "data": {
            "text/plain": [
              "(1600, 128, 128, 3)"
            ]
          },
          "metadata": {
            "tags": []
          },
          "execution_count": 34
        }
      ]
    },
    {
      "cell_type": "code",
      "metadata": {
        "id": "xknSO1FeEcdq",
        "colab_type": "code",
        "colab": {}
      },
      "source": [
        "# file = open('/content/drive/My Drive/DS5500_Project_2/processed_images/train_set_col_res', 'rb')\n",
        "# train_set = pi.load(file)\n",
        "# file.close()\n",
        "\n",
        "# file = open('/content/drive/My Drive/DS5500_Project_2/processed_images/val_set_col_res', 'rb')\n",
        "# val_set = pi.load(file)\n",
        "# file.close()"
      ],
      "execution_count": 0,
      "outputs": []
    },
    {
      "cell_type": "code",
      "metadata": {
        "id": "DsOFvsOyEBng",
        "colab_type": "code",
        "colab": {}
      },
      "source": [
        "# train_size = 50\n",
        "# val_size = 10\n",
        "# train_set = load_input(labels = train_x[0:train_size], IMG_SIZE=128)\n",
        "# val_set = load_input(labels = valid_x[0:val_size], IMG_SIZE=128)\n",
        "# train_labels = train_labels[0:train_size]\n",
        "# val_labels = val_labels[0:val_size]"
      ],
      "execution_count": 0,
      "outputs": []
    },
    {
      "cell_type": "code",
      "metadata": {
        "id": "Zls0COSMqulQ",
        "colab_type": "code",
        "colab": {}
      },
      "source": [
        "from tensorflow.python.keras.applications.resnet import ResNet50"
      ],
      "execution_count": 0,
      "outputs": []
    },
    {
      "cell_type": "code",
      "metadata": {
        "id": "Agm4bM_AFnIp",
        "colab_type": "code",
        "colab": {}
      },
      "source": [
        "from keras.applications.xception import Xception"
      ],
      "execution_count": 0,
      "outputs": []
    },
    {
      "cell_type": "code",
      "metadata": {
        "id": "4IyldJ_QiU5c",
        "colab_type": "code",
        "colab": {}
      },
      "source": [
        "img_sz = 128\n",
        "img_height,img_width = img_sz, img_sz\n",
        "num_classes = 2\n",
        "#If imagenet weights are being loaded, \n",
        "#input must have a static square shape (one of (128, 128), (160, 160), (192, 192), or (224, 224))\n",
        "base_model = Xception(weights= None, include_top=False, input_shape= (img_height,img_width,3))"
      ],
      "execution_count": 0,
      "outputs": []
    },
    {
      "cell_type": "code",
      "metadata": {
        "id": "eE-v01T3hTSH",
        "colab_type": "code",
        "colab": {}
      },
      "source": [
        "x = base_model.output\n",
        "x = GlobalAveragePooling2D()(x)\n",
        "x = Dropout(0.3)(x)\n",
        "predictions = Dense(num_classes, activation= 'sigmoid')(x)\n",
        "model = Model(inputs = base_model.input, outputs = predictions)\n"
      ],
      "execution_count": 0,
      "outputs": []
    },
    {
      "cell_type": "code",
      "metadata": {
        "id": "lbWtYVlbhTYq",
        "colab_type": "code",
        "colab": {}
      },
      "source": [
        "from keras.optimizers import SGD, Adam, Adadelta\n",
        "# sgd = SGD(lr=lrate, momentum=0.9, decay=decay, nesterov=False)\n",
        "adam = Adadelta(lr=0.01)\n",
        "model.compile(optimizer= adam, loss='categorical_crossentropy', metrics=['accuracy'])"
      ],
      "execution_count": 0,
      "outputs": []
    },
    {
      "cell_type": "code",
      "metadata": {
        "id": "bY7QHcrKNqbB",
        "colab_type": "code",
        "colab": {}
      },
      "source": [
        "batch_size=128\n",
        "train_datagen = ImageDataGenerator(rescale=1./255,   #Scale the image between 0 and 1\n",
        "                                    rotation_range=40,\n",
        "                                    width_shift_range=0.2,\n",
        "                                    height_shift_range=0.2,\n",
        "                                    shear_range=0.2,\n",
        "                                    zoom_range=0.2,\n",
        "                                    horizontal_flip=True,\n",
        "                                    fill_mode='nearest')\n",
        "\n",
        "val_datagen = ImageDataGenerator(rescale=1./255)  #We do not augment validation data. we only perform rescale\n",
        "\n",
        "#Create the image generators\n",
        "train_generator = train_datagen.flow(X_train, train_labels,batch_size=batch_size)\n",
        "val_generator = val_datagen.flow(X_val, val_labels, batch_size=batch_size)"
      ],
      "execution_count": 0,
      "outputs": []
    },
    {
      "cell_type": "code",
      "metadata": {
        "id": "-G-AunuPhTfS",
        "colab_type": "code",
        "outputId": "15b83ef4-cfc6-4cc1-d760-42e738a4d58e",
        "colab": {
          "base_uri": "https://localhost:8080/",
          "height": 722
        }
      },
      "source": [
        "ntrain = len(X_train)\n",
        "nval= len(X_val)\n",
        "batch_size=128\n",
        "print('start time:'+str(time.time()))\n",
        "# model.fit(X_train, train_labels  , epochs = 20, batch_size = 128)\n",
        "# history=model.fit_generator(X_train, train_labels  , epochs = 20)\n",
        "history = model.fit_generator(train_generator,\n",
        "                              steps_per_epoch=ntrain // batch_size,\n",
        "                              epochs=20,\n",
        "                              validation_data=val_generator,\n",
        "                              validation_steps=nval // batch_size)\n",
        "print('end time:'+str(time.time()))"
      ],
      "execution_count": 0,
      "outputs": [
        {
          "output_type": "stream",
          "text": [
            "start time:1575336543.7943635\n",
            "Epoch 1/20\n",
            "28/28 [==============================] - 67s 2s/step - loss: 0.6945 - acc: 0.4992 - val_loss: 0.6908 - val_acc: 0.5278\n",
            "Epoch 2/20\n",
            "28/28 [==============================] - 50s 2s/step - loss: 0.6910 - acc: 0.5348 - val_loss: 0.6860 - val_acc: 0.5438\n",
            "Epoch 3/20\n",
            "28/28 [==============================] - 49s 2s/step - loss: 0.6851 - acc: 0.5461 - val_loss: 0.6831 - val_acc: 0.5485\n",
            "Epoch 4/20\n",
            "28/28 [==============================] - 49s 2s/step - loss: 0.6868 - acc: 0.5431 - val_loss: 0.6784 - val_acc: 0.5709\n",
            "Epoch 5/20\n",
            "28/28 [==============================] - 49s 2s/step - loss: 0.6805 - acc: 0.5664 - val_loss: 0.6790 - val_acc: 0.5886\n",
            "Epoch 6/20\n",
            "28/28 [==============================] - 49s 2s/step - loss: 0.6805 - acc: 0.5628 - val_loss: 0.6747 - val_acc: 0.5849\n",
            "Epoch 7/20\n",
            "28/28 [==============================] - 49s 2s/step - loss: 0.6813 - acc: 0.5594 - val_loss: 0.6709 - val_acc: 0.5979\n",
            "Epoch 8/20\n",
            "28/28 [==============================] - 49s 2s/step - loss: 0.6793 - acc: 0.5633 - val_loss: 0.6755 - val_acc: 0.5728\n",
            "Epoch 9/20\n",
            "28/28 [==============================] - 49s 2s/step - loss: 0.6761 - acc: 0.5780 - val_loss: 0.6720 - val_acc: 0.5737\n",
            "Epoch 10/20\n",
            "28/28 [==============================] - 49s 2s/step - loss: 0.6790 - acc: 0.5594 - val_loss: 0.6708 - val_acc: 0.5830\n",
            "Epoch 11/20\n",
            "28/28 [==============================] - 49s 2s/step - loss: 0.6755 - acc: 0.5702 - val_loss: 0.6708 - val_acc: 0.5764\n",
            "Epoch 12/20\n",
            "28/28 [==============================] - 50s 2s/step - loss: 0.6737 - acc: 0.5737 - val_loss: 0.6687 - val_acc: 0.5756\n",
            "Epoch 13/20\n",
            "28/28 [==============================] - 49s 2s/step - loss: 0.6768 - acc: 0.5633 - val_loss: 0.6712 - val_acc: 0.5812\n",
            "Epoch 14/20\n",
            "28/28 [==============================] - 49s 2s/step - loss: 0.6687 - acc: 0.5920 - val_loss: 0.6648 - val_acc: 0.5868\n",
            "Epoch 15/20\n",
            "28/28 [==============================] - 49s 2s/step - loss: 0.6765 - acc: 0.5729 - val_loss: 0.6686 - val_acc: 0.5784\n",
            "Epoch 16/20\n",
            "28/28 [==============================] - 49s 2s/step - loss: 0.6692 - acc: 0.5848 - val_loss: 0.6630 - val_acc: 0.5979\n",
            "Epoch 17/20\n",
            "28/28 [==============================] - 49s 2s/step - loss: 0.6670 - acc: 0.5914 - val_loss: 0.6706 - val_acc: 0.5634\n",
            "Epoch 18/20\n",
            "28/28 [==============================] - 49s 2s/step - loss: 0.6709 - acc: 0.5803 - val_loss: 0.6603 - val_acc: 0.6007\n",
            "Epoch 19/20\n",
            "28/28 [==============================] - 49s 2s/step - loss: 0.6605 - acc: 0.5999 - val_loss: 0.6747 - val_acc: 0.5728\n",
            "Epoch 20/20\n",
            "28/28 [==============================] - 49s 2s/step - loss: 0.6729 - acc: 0.5774 - val_loss: 0.6624 - val_acc: 0.5914\n",
            "end time:1575337548.76265\n"
          ],
          "name": "stdout"
        }
      ]
    },
    {
      "cell_type": "code",
      "metadata": {
        "id": "b3Z1hzgdYBot",
        "colab_type": "code",
        "outputId": "25b490fb-ae22-4ec5-8eea-ff513f10798e",
        "colab": {
          "base_uri": "https://localhost:8080/",
          "height": 545
        }
      },
      "source": [
        "\n",
        "#get the details form the history object\n",
        "acc = history.history['acc']\n",
        "val_acc = history.history['val_acc']\n",
        "loss = history.history['loss']\n",
        "val_loss = history.history['val_loss']\n",
        "\n",
        "epochs = range(1, len(acc) + 1)\n",
        "\n",
        "#Train and validation accuracy\n",
        "plt.plot(epochs, acc, 'b', label='Training accurarcy')\n",
        "plt.plot(epochs, val_acc, 'r', label='Validation accurarcy')\n",
        "plt.title('Training and Validation accurarcy')\n",
        "plt.legend()\n",
        "\n",
        "plt.figure()\n",
        "#Train and validation loss\n",
        "plt.plot(epochs, loss, 'b', label='Training loss')\n",
        "plt.plot(epochs, val_loss, 'r', label='Validation loss')\n",
        "plt.title('Training and Validation loss')\n",
        "plt.legend()\n",
        "\n",
        "plt.show()"
      ],
      "execution_count": 0,
      "outputs": [
        {
          "output_type": "display_data",
          "data": {
            "image/png": "[encoded data removed]",
            "text/plain": [
              "<Figure size 432x288 with 1 Axes>"
            ]
          },
          "metadata": {
            "tags": []
          }
        },
        {
          "output_type": "display_data",
          "data": {
            "image/png": "[encoded data removed]",
            "text/plain": [
              "<Figure size 432x288 with 1 Axes>"
            ]
          },
          "metadata": {
            "tags": []
          }
        }
      ]
    },
    {
      "cell_type": "code",
      "metadata": {
        "id": "AonrqClxiWZR",
        "colab_type": "code",
        "outputId": "4ea2fa86-2d73-49c0-b56a-eb1b2fbf72ca",
        "colab": {
          "base_uri": "https://localhost:8080/",
          "height": 353
        }
      },
      "source": [
        "# from tabulate import tabulate\n",
        "# print(tabulate(history.history['acc']))\n",
        "history.history['val_acc']\n",
        "# from prettytable import PrettyTable\n",
        "# t = PrettyTable(history.history)\n",
        "# # t.add_row(['Alice', 24])\n",
        "# # t.add_row(['Bob', 19])\n",
        "# print(t)"
      ],
      "execution_count": 0,
      "outputs": [
        {
          "output_type": "execute_result",
          "data": {
            "text/plain": [
              "[0.5277777777777778,\n",
              " 0.5438432844717112,\n",
              " 0.5485074617969457,\n",
              " 0.5708955223880597,\n",
              " 0.588619402095453,\n",
              " 0.5848880597014925,\n",
              " 0.5979477603044083,\n",
              " 0.5727611940298507,\n",
              " 0.5736940307403678,\n",
              " 0.5830223871700799,\n",
              " 0.5763888888888888,\n",
              " 0.5755597006029157,\n",
              " 0.5811567155282888,\n",
              " 0.5867537313432836,\n",
              " 0.5783582080656023,\n",
              " 0.5979477603044083,\n",
              " 0.5634328349312739,\n",
              " 0.6007462686567164,\n",
              " 0.5727611931402292,\n",
              " 0.5914179104477612]"
            ]
          },
          "metadata": {
            "tags": []
          },
          "execution_count": 88
        }
      ]
    },
    {
      "cell_type": "code",
      "metadata": {
        "id": "wlqVfaW-ObJr",
        "colab_type": "code",
        "outputId": "04d00f40-f750-4629-9c8c-35d8ca36cec3",
        "colab": {
          "base_uri": "https://localhost:8080/",
          "height": 545
        }
      },
      "source": [
        "import matplotlib.pyplot as plt\n",
        "\n",
        "#get the details form the history object\n",
        "acc = history.history['acc']\n",
        "val_acc = history.history['val_acc']\n",
        "loss = history.history['loss']\n",
        "val_loss = history.history['val_loss']\n",
        "\n",
        "epochs = range(1, len(acc) + 1)\n",
        "\n",
        "#Train and validation accuracy\n",
        "plt.plot(epochs, acc, 'b', label='Training accurarcy')\n",
        "plt.plot(epochs, val_acc, 'r', label='Validation accurarcy')\n",
        "plt.title('Training and Validation accurarcy')\n",
        "plt.legend()\n",
        "\n",
        "plt.figure()\n",
        "#Train and validation loss\n",
        "plt.plot(epochs, loss, 'b', label='Training loss')\n",
        "plt.plot(epochs, val_loss, 'r', label='Validation loss')\n",
        "plt.title('Training and Validation loss')\n",
        "plt.legend()\n",
        "\n",
        "plt.show()"
      ],
      "execution_count": 0,
      "outputs": [
        {
          "output_type": "display_data",
          "data": {
            "image/png": "[encoded data removed]",
            "text/plain": [
              "<Figure size 432x288 with 1 Axes>"
            ]
          },
          "metadata": {
            "tags": []
          }
        },
        {
          "output_type": "display_data",
          "data": {
            "image/png": "[encoded data removed]",
            "text/plain": [
              "<Figure size 432x288 with 1 Axes>"
            ]
          },
          "metadata": {
            "tags": []
          }
        }
      ]
    },
    {
      "cell_type": "code",
      "metadata": {
        "id": "AhYyMNQIhTmL",
        "colab_type": "code",
        "outputId": "b1de140c-6ff0-4df9-9c65-b95398d17196",
        "colab": {
          "base_uri": "https://localhost:8080/",
          "height": 67
        }
      },
      "source": [
        "preds = model.evaluate(X_test, test_labels)\n",
        "print (\"Loss = \" + str(preds[0]))\n",
        "print (\"Test Accuracy = \" + str(preds[1]))"
      ],
      "execution_count": 0,
      "outputs": [
        {
          "output_type": "stream",
          "text": [
            "1603/1603 [==============================] - 7s 5ms/step\n",
            "Loss = 1.609023842005453\n",
            "Test Accuracy = 0.21459762944479102\n"
          ],
          "name": "stdout"
        }
      ]
    },
    {
      "cell_type": "code",
      "metadata": {
        "id": "gEUvmyoT5y7K",
        "colab_type": "code",
        "colab": {}
      },
      "source": [
        "pred_value=model.predict(X_train)\n",
        "val_labels= train_labels.copy()"
      ],
      "execution_count": 0,
      "outputs": []
    },
    {
      "cell_type": "code",
      "metadata": {
        "id": "rzB05Ce57PN_",
        "colab_type": "code",
        "outputId": "18015f46-32d9-45a6-bb5d-8990bd858dde",
        "colab": {
          "base_uri": "https://localhost:8080/",
          "height": 134
        }
      },
      "source": [
        "# np.shape(val_labels)\n",
        "pred_value"
      ],
      "execution_count": 0,
      "outputs": [
        {
          "output_type": "execute_result",
          "data": {
            "text/plain": [
              "array([[0.6285982 , 0.11792779],\n",
              "       [0.5191828 , 0.03443292],\n",
              "       [0.6534121 , 0.1117658 ],\n",
              "       ...,\n",
              "       [0.5420238 , 0.17554918],\n",
              "       [0.20497689, 0.48115048],\n",
              "       [0.62328446, 0.13523671]], dtype=float32)"
            ]
          },
          "metadata": {
            "tags": []
          },
          "execution_count": 81
        }
      ]
    },
    {
      "cell_type": "code",
      "metadata": {
        "id": "74cP8AI8T3uk",
        "colab_type": "code",
        "outputId": "4d8dcc88-aef1-448c-c42d-56d64ee22adf",
        "colab": {
          "base_uri": "https://localhost:8080/",
          "height": 101
        }
      },
      "source": [
        "\n",
        "pred=np.argmax(pred_value,axis=1)\n",
        "actual=np.argmax(val_labels,axis=1)\n",
        "accuracy= metrics.accuracy_score(actual,pred)\n",
        "# precision= metrics.average_precision_score(actual,pred)\n",
        "# f1_score= metrics.f1_score(actual,pred)\n",
        "print(\"accuracy: \"+str(accuracy))\n",
        "# print(\"precision:\"+ str(precision))\n",
        "# print(\"f1 score: \"+ str(f1_score))\n",
        "print(\"kappa Score: \"+str(metrics.cohen_kappa_score(actual,pred, weights='quadratic')))\n",
        "print(\"confusion matrix\")\n",
        "print(metrics.confusion_matrix(actual, pred))"
      ],
      "execution_count": 0,
      "outputs": [
        {
          "output_type": "stream",
          "text": [
            "accuracy: 0.9210416666666666\n",
            "kappa Score: 0.8420742855059404\n",
            "confusion matrix\n",
            "[[2231  180]\n",
            " [ 199 2190]]\n"
          ],
          "name": "stdout"
        }
      ]
    },
    {
      "cell_type": "code",
      "metadata": {
        "id": "vRoKZwwtcupJ",
        "colab_type": "code",
        "outputId": "d1cb53ee-c5c3-46a5-f27d-4bb6c5e53a36",
        "colab": {
          "base_uri": "https://localhost:8080/",
          "height": 168
        }
      },
      "source": [
        "print(metrics.classification_report(actual, pred, digits=3))"
      ],
      "execution_count": 0,
      "outputs": [
        {
          "output_type": "stream",
          "text": [
            "              precision    recall  f1-score   support\n",
            "\n",
            "           0      0.918     0.925     0.922      2411\n",
            "           1      0.924     0.917     0.920      2389\n",
            "\n",
            "    accuracy                          0.921      4800\n",
            "   macro avg      0.921     0.921     0.921      4800\n",
            "weighted avg      0.921     0.921     0.921      4800\n",
            "\n"
          ],
          "name": "stdout"
        }
      ]
    },
    {
      "cell_type": "code",
      "metadata": {
        "id": "miqR2RMdhT68",
        "colab_type": "code",
        "outputId": "cbb0da1c-a2f9-4f88-d12b-0c438ccf3401",
        "colab": {
          "base_uri": "https://localhost:8080/",
          "height": 50
        }
      },
      "source": [
        "\n",
        "print(Counter(actual))\n",
        "print(Counter(pred))"
      ],
      "execution_count": 0,
      "outputs": [
        {
          "output_type": "stream",
          "text": [
            "Counter({1: 611, 0: 589})\n",
            "Counter({1: 625, 0: 575})\n"
          ],
          "name": "stdout"
        }
      ]
    },
    {
      "cell_type": "code",
      "metadata": {
        "id": "CmsYJG27sFx6",
        "colab_type": "code",
        "outputId": "20e23f5a-1c32-4a05-9bc6-7f9b6cf36391",
        "colab": {
          "base_uri": "https://localhost:8080/",
          "height": 303
        }
      },
      "source": [
        "calculate_metrics(pred_value,val_labels)"
      ],
      "execution_count": 0,
      "outputs": [
        {
          "output_type": "error",
          "ename": "TypeError",
          "evalue": "ignored",
          "traceback": [
            "\u001b[0;31m---------------------------------------------------------------------------\u001b[0m",
            "\u001b[0;31mTypeError\u001b[0m                                 Traceback (most recent call last)",
            "\u001b[0;32m<ipython-input-39-7e880d07ef9f>\u001b[0m in \u001b[0;36m<module>\u001b[0;34m()\u001b[0m\n\u001b[0;32m----> 1\u001b[0;31m \u001b[0mcalculate_metrics\u001b[0m\u001b[0;34m(\u001b[0m\u001b[0mpred_value\u001b[0m\u001b[0;34m,\u001b[0m\u001b[0mval_labels\u001b[0m\u001b[0;34m)\u001b[0m\u001b[0;34m\u001b[0m\u001b[0;34m\u001b[0m\u001b[0m\n\u001b[0m",
            "\u001b[0;32m<ipython-input-36-171d5dc45b72>\u001b[0m in \u001b[0;36mcalculate_metrics\u001b[0;34m(pred, actual)\u001b[0m\n\u001b[1;32m      2\u001b[0m   \u001b[0mpred\u001b[0m\u001b[0;34m=\u001b[0m\u001b[0mnp\u001b[0m\u001b[0;34m.\u001b[0m\u001b[0margmax\u001b[0m\u001b[0;34m(\u001b[0m\u001b[0mpred\u001b[0m\u001b[0;34m)\u001b[0m\u001b[0;34m\u001b[0m\u001b[0;34m\u001b[0m\u001b[0m\n\u001b[1;32m      3\u001b[0m   \u001b[0mactual\u001b[0m\u001b[0;34m=\u001b[0m\u001b[0mnp\u001b[0m\u001b[0;34m.\u001b[0m\u001b[0margmax\u001b[0m\u001b[0;34m(\u001b[0m\u001b[0mactual\u001b[0m\u001b[0;34m)\u001b[0m\u001b[0;34m\u001b[0m\u001b[0;34m\u001b[0m\u001b[0m\n\u001b[0;32m----> 4\u001b[0;31m   \u001b[0maccuracy\u001b[0m\u001b[0;34m=\u001b[0m \u001b[0mmetrics\u001b[0m\u001b[0;34m.\u001b[0m\u001b[0maccuracy_score\u001b[0m\u001b[0;34m(\u001b[0m\u001b[0mactual\u001b[0m\u001b[0;34m,\u001b[0m\u001b[0mpred\u001b[0m\u001b[0;34m)\u001b[0m\u001b[0;34m\u001b[0m\u001b[0;34m\u001b[0m\u001b[0m\n\u001b[0m\u001b[1;32m      5\u001b[0m   \u001b[0mprecision\u001b[0m\u001b[0;34m=\u001b[0m \u001b[0mmetrics\u001b[0m\u001b[0;34m.\u001b[0m\u001b[0maverage_precision_score\u001b[0m\u001b[0;34m(\u001b[0m\u001b[0mactual\u001b[0m\u001b[0;34m,\u001b[0m\u001b[0mpred\u001b[0m\u001b[0;34m)\u001b[0m\u001b[0;34m\u001b[0m\u001b[0;34m\u001b[0m\u001b[0m\n\u001b[1;32m      6\u001b[0m   \u001b[0mf1_score\u001b[0m\u001b[0;34m=\u001b[0m \u001b[0mmetrics\u001b[0m\u001b[0;34m.\u001b[0m\u001b[0mf1_score\u001b[0m\u001b[0;34m(\u001b[0m\u001b[0mactual\u001b[0m\u001b[0;34m,\u001b[0m\u001b[0mpred\u001b[0m\u001b[0;34m)\u001b[0m\u001b[0;34m\u001b[0m\u001b[0;34m\u001b[0m\u001b[0m\n",
            "\u001b[0;32m/usr/local/lib/python3.6/dist-packages/sklearn/metrics/classification.py\u001b[0m in \u001b[0;36maccuracy_score\u001b[0;34m(y_true, y_pred, normalize, sample_weight)\u001b[0m\n\u001b[1;32m    174\u001b[0m \u001b[0;34m\u001b[0m\u001b[0m\n\u001b[1;32m    175\u001b[0m     \u001b[0;31m# Compute accuracy for each possible representation\u001b[0m\u001b[0;34m\u001b[0m\u001b[0;34m\u001b[0m\u001b[0;34m\u001b[0m\u001b[0m\n\u001b[0;32m--> 176\u001b[0;31m     \u001b[0my_type\u001b[0m\u001b[0;34m,\u001b[0m \u001b[0my_true\u001b[0m\u001b[0;34m,\u001b[0m \u001b[0my_pred\u001b[0m \u001b[0;34m=\u001b[0m \u001b[0m_check_targets\u001b[0m\u001b[0;34m(\u001b[0m\u001b[0my_true\u001b[0m\u001b[0;34m,\u001b[0m \u001b[0my_pred\u001b[0m\u001b[0;34m)\u001b[0m\u001b[0;34m\u001b[0m\u001b[0;34m\u001b[0m\u001b[0m\n\u001b[0m\u001b[1;32m    177\u001b[0m     \u001b[0mcheck_consistent_length\u001b[0m\u001b[0;34m(\u001b[0m\u001b[0my_true\u001b[0m\u001b[0;34m,\u001b[0m \u001b[0my_pred\u001b[0m\u001b[0;34m,\u001b[0m \u001b[0msample_weight\u001b[0m\u001b[0;34m)\u001b[0m\u001b[0;34m\u001b[0m\u001b[0;34m\u001b[0m\u001b[0m\n\u001b[1;32m    178\u001b[0m     \u001b[0;32mif\u001b[0m \u001b[0my_type\u001b[0m\u001b[0;34m.\u001b[0m\u001b[0mstartswith\u001b[0m\u001b[0;34m(\u001b[0m\u001b[0;34m'multilabel'\u001b[0m\u001b[0;34m)\u001b[0m\u001b[0;34m:\u001b[0m\u001b[0;34m\u001b[0m\u001b[0;34m\u001b[0m\u001b[0m\n",
            "\u001b[0;32m/usr/local/lib/python3.6/dist-packages/sklearn/metrics/classification.py\u001b[0m in \u001b[0;36m_check_targets\u001b[0;34m(y_true, y_pred)\u001b[0m\n\u001b[1;32m     69\u001b[0m     \u001b[0my_pred\u001b[0m \u001b[0;34m:\u001b[0m \u001b[0marray\u001b[0m \u001b[0;32mor\u001b[0m \u001b[0mindicator\u001b[0m \u001b[0mmatrix\u001b[0m\u001b[0;34m\u001b[0m\u001b[0;34m\u001b[0m\u001b[0m\n\u001b[1;32m     70\u001b[0m     \"\"\"\n\u001b[0;32m---> 71\u001b[0;31m     \u001b[0mcheck_consistent_length\u001b[0m\u001b[0;34m(\u001b[0m\u001b[0my_true\u001b[0m\u001b[0;34m,\u001b[0m \u001b[0my_pred\u001b[0m\u001b[0;34m)\u001b[0m\u001b[0;34m\u001b[0m\u001b[0;34m\u001b[0m\u001b[0m\n\u001b[0m\u001b[1;32m     72\u001b[0m     \u001b[0mtype_true\u001b[0m \u001b[0;34m=\u001b[0m \u001b[0mtype_of_target\u001b[0m\u001b[0;34m(\u001b[0m\u001b[0my_true\u001b[0m\u001b[0;34m)\u001b[0m\u001b[0;34m\u001b[0m\u001b[0;34m\u001b[0m\u001b[0m\n\u001b[1;32m     73\u001b[0m     \u001b[0mtype_pred\u001b[0m \u001b[0;34m=\u001b[0m \u001b[0mtype_of_target\u001b[0m\u001b[0;34m(\u001b[0m\u001b[0my_pred\u001b[0m\u001b[0;34m)\u001b[0m\u001b[0;34m\u001b[0m\u001b[0;34m\u001b[0m\u001b[0m\n",
            "\u001b[0;32m/usr/local/lib/python3.6/dist-packages/sklearn/utils/validation.py\u001b[0m in \u001b[0;36mcheck_consistent_length\u001b[0;34m(*arrays)\u001b[0m\n\u001b[1;32m    199\u001b[0m     \"\"\"\n\u001b[1;32m    200\u001b[0m \u001b[0;34m\u001b[0m\u001b[0m\n\u001b[0;32m--> 201\u001b[0;31m     \u001b[0mlengths\u001b[0m \u001b[0;34m=\u001b[0m \u001b[0;34m[\u001b[0m\u001b[0m_num_samples\u001b[0m\u001b[0;34m(\u001b[0m\u001b[0mX\u001b[0m\u001b[0;34m)\u001b[0m \u001b[0;32mfor\u001b[0m \u001b[0mX\u001b[0m \u001b[0;32min\u001b[0m \u001b[0marrays\u001b[0m \u001b[0;32mif\u001b[0m \u001b[0mX\u001b[0m \u001b[0;32mis\u001b[0m \u001b[0;32mnot\u001b[0m \u001b[0;32mNone\u001b[0m\u001b[0;34m]\u001b[0m\u001b[0;34m\u001b[0m\u001b[0;34m\u001b[0m\u001b[0m\n\u001b[0m\u001b[1;32m    202\u001b[0m     \u001b[0muniques\u001b[0m \u001b[0;34m=\u001b[0m \u001b[0mnp\u001b[0m\u001b[0;34m.\u001b[0m\u001b[0munique\u001b[0m\u001b[0;34m(\u001b[0m\u001b[0mlengths\u001b[0m\u001b[0;34m)\u001b[0m\u001b[0;34m\u001b[0m\u001b[0;34m\u001b[0m\u001b[0m\n\u001b[1;32m    203\u001b[0m     \u001b[0;32mif\u001b[0m \u001b[0mlen\u001b[0m\u001b[0;34m(\u001b[0m\u001b[0muniques\u001b[0m\u001b[0;34m)\u001b[0m \u001b[0;34m>\u001b[0m \u001b[0;36m1\u001b[0m\u001b[0;34m:\u001b[0m\u001b[0;34m\u001b[0m\u001b[0;34m\u001b[0m\u001b[0m\n",
            "\u001b[0;32m/usr/local/lib/python3.6/dist-packages/sklearn/utils/validation.py\u001b[0m in \u001b[0;36m<listcomp>\u001b[0;34m(.0)\u001b[0m\n\u001b[1;32m    199\u001b[0m     \"\"\"\n\u001b[1;32m    200\u001b[0m \u001b[0;34m\u001b[0m\u001b[0m\n\u001b[0;32m--> 201\u001b[0;31m     \u001b[0mlengths\u001b[0m \u001b[0;34m=\u001b[0m \u001b[0;34m[\u001b[0m\u001b[0m_num_samples\u001b[0m\u001b[0;34m(\u001b[0m\u001b[0mX\u001b[0m\u001b[0;34m)\u001b[0m \u001b[0;32mfor\u001b[0m \u001b[0mX\u001b[0m \u001b[0;32min\u001b[0m \u001b[0marrays\u001b[0m \u001b[0;32mif\u001b[0m \u001b[0mX\u001b[0m \u001b[0;32mis\u001b[0m \u001b[0;32mnot\u001b[0m \u001b[0;32mNone\u001b[0m\u001b[0;34m]\u001b[0m\u001b[0;34m\u001b[0m\u001b[0;34m\u001b[0m\u001b[0m\n\u001b[0m\u001b[1;32m    202\u001b[0m     \u001b[0muniques\u001b[0m \u001b[0;34m=\u001b[0m \u001b[0mnp\u001b[0m\u001b[0;34m.\u001b[0m\u001b[0munique\u001b[0m\u001b[0;34m(\u001b[0m\u001b[0mlengths\u001b[0m\u001b[0;34m)\u001b[0m\u001b[0;34m\u001b[0m\u001b[0;34m\u001b[0m\u001b[0m\n\u001b[1;32m    203\u001b[0m     \u001b[0;32mif\u001b[0m \u001b[0mlen\u001b[0m\u001b[0;34m(\u001b[0m\u001b[0muniques\u001b[0m\u001b[0;34m)\u001b[0m \u001b[0;34m>\u001b[0m \u001b[0;36m1\u001b[0m\u001b[0;34m:\u001b[0m\u001b[0;34m\u001b[0m\u001b[0;34m\u001b[0m\u001b[0m\n",
            "\u001b[0;32m/usr/local/lib/python3.6/dist-packages/sklearn/utils/validation.py\u001b[0m in \u001b[0;36m_num_samples\u001b[0;34m(x)\u001b[0m\n\u001b[1;32m    144\u001b[0m         \u001b[0;32mif\u001b[0m \u001b[0mlen\u001b[0m\u001b[0;34m(\u001b[0m\u001b[0mx\u001b[0m\u001b[0;34m.\u001b[0m\u001b[0mshape\u001b[0m\u001b[0;34m)\u001b[0m \u001b[0;34m==\u001b[0m \u001b[0;36m0\u001b[0m\u001b[0;34m:\u001b[0m\u001b[0;34m\u001b[0m\u001b[0;34m\u001b[0m\u001b[0m\n\u001b[1;32m    145\u001b[0m             raise TypeError(\"Singleton array %r cannot be considered\"\n\u001b[0;32m--> 146\u001b[0;31m                             \" a valid collection.\" % x)\n\u001b[0m\u001b[1;32m    147\u001b[0m         \u001b[0;31m# Check that shape is returning an integer or default to len\u001b[0m\u001b[0;34m\u001b[0m\u001b[0;34m\u001b[0m\u001b[0;34m\u001b[0m\u001b[0m\n\u001b[1;32m    148\u001b[0m         \u001b[0;31m# Dask dataframes may not return numeric shape[0] value\u001b[0m\u001b[0;34m\u001b[0m\u001b[0;34m\u001b[0m\u001b[0;34m\u001b[0m\u001b[0m\n",
            "\u001b[0;31mTypeError\u001b[0m: Singleton array 2 cannot be considered a valid collection."
          ]
        }
      ]
    },
    {
      "cell_type": "code",
      "metadata": {
        "id": "ZgONrfECsF0-",
        "colab_type": "code",
        "outputId": "0fe0172c-e469-4e2f-ca90-152245cba308",
        "colab": {
          "base_uri": "https://localhost:8080/",
          "height": 101
        }
      },
      "source": [
        "metrics.confusion_matrix(actual, pred)"
      ],
      "execution_count": 0,
      "outputs": [
        {
          "output_type": "execute_result",
          "data": {
            "text/plain": [
              "array([[258,   5,   8,   0,   0],\n",
              "       [  4,  28,  18,   3,   3],\n",
              "       [ 11,  25, 100,   8,   6],\n",
              "       [  1,   4,  10,  11,   3],\n",
              "       [  3,  13,  21,   1,   6]])"
            ]
          },
          "metadata": {
            "tags": []
          },
          "execution_count": 50
        }
      ]
    },
    {
      "cell_type": "code",
      "metadata": {
        "id": "U2JA0K6HsF3r",
        "colab_type": "code",
        "outputId": "d2b979ef-a13b-404f-cfed-5343e03c48c6",
        "colab": {
          "base_uri": "https://localhost:8080/",
          "height": 34
        }
      },
      "source": [
        "type(pred_value)"
      ],
      "execution_count": 0,
      "outputs": [
        {
          "output_type": "execute_result",
          "data": {
            "text/plain": [
              "numpy.ndarray"
            ]
          },
          "metadata": {
            "tags": []
          },
          "execution_count": 45
        }
      ]
    },
    {
      "cell_type": "code",
      "metadata": {
        "id": "2QZ-Tf-Gnq9W",
        "colab_type": "code",
        "colab": {}
      },
      "source": [
        "def calculate_metrics(pred, actual):\n",
        "  pred=np.argmax(pred)\n",
        "  actual=np.argmax(actual)\n",
        "  accuracy= metrics.accuracy_score(actual,pred)\n",
        "  precision= metrics.average_precision_score(actual,pred)\n",
        "  f1_score= metrics.f1_score(actual,pred)\n",
        "  print(\"accuracy: \"+str(accuracy))\n",
        "  print(\"precision:\"+ str(precision))\n",
        "  print(\"f1 score: \"+ str(f1_score))\n",
        "  print(\"confusion matrix\")\n",
        "  print(metrics.confusion_matrix(actual, pred))\n",
        "\n"
      ],
      "execution_count": 0,
      "outputs": []
    },
    {
      "cell_type": "code",
      "metadata": {
        "id": "u9JN-cv3qPGp",
        "colab_type": "code",
        "outputId": "84f1a8dd-61a2-43a0-94cf-f5e6e5ed1526",
        "colab": {
          "base_uri": "https://localhost:8080/",
          "height": 303
        }
      },
      "source": [
        "calculate_metrics(pred_value,val_set)"
      ],
      "execution_count": 0,
      "outputs": [
        {
          "output_type": "error",
          "ename": "TypeError",
          "evalue": "ignored",
          "traceback": [
            "\u001b[0;31m---------------------------------------------------------------------------\u001b[0m",
            "\u001b[0;31mTypeError\u001b[0m                                 Traceback (most recent call last)",
            "\u001b[0;32m<ipython-input-52-115fdcb30c5f>\u001b[0m in \u001b[0;36m<module>\u001b[0;34m()\u001b[0m\n\u001b[0;32m----> 1\u001b[0;31m \u001b[0mcalculate_metrics\u001b[0m\u001b[0;34m(\u001b[0m\u001b[0mpred_value\u001b[0m\u001b[0;34m,\u001b[0m\u001b[0mval_set\u001b[0m\u001b[0;34m)\u001b[0m\u001b[0;34m\u001b[0m\u001b[0;34m\u001b[0m\u001b[0m\n\u001b[0m",
            "\u001b[0;32m<ipython-input-51-301454764bf8>\u001b[0m in \u001b[0;36mcalculate_metrics\u001b[0;34m(pred, actual)\u001b[0m\n\u001b[1;32m      2\u001b[0m   \u001b[0mpred\u001b[0m\u001b[0;34m=\u001b[0m\u001b[0mnp\u001b[0m\u001b[0;34m.\u001b[0m\u001b[0margmax\u001b[0m\u001b[0;34m(\u001b[0m\u001b[0mpred\u001b[0m\u001b[0;34m)\u001b[0m\u001b[0;34m\u001b[0m\u001b[0;34m\u001b[0m\u001b[0m\n\u001b[1;32m      3\u001b[0m   \u001b[0mactual\u001b[0m\u001b[0;34m=\u001b[0m\u001b[0mnp\u001b[0m\u001b[0;34m.\u001b[0m\u001b[0margmax\u001b[0m\u001b[0;34m(\u001b[0m\u001b[0mactual\u001b[0m\u001b[0;34m)\u001b[0m\u001b[0;34m\u001b[0m\u001b[0;34m\u001b[0m\u001b[0m\n\u001b[0;32m----> 4\u001b[0;31m   \u001b[0maccuracy\u001b[0m\u001b[0;34m=\u001b[0m \u001b[0mmetrics\u001b[0m\u001b[0;34m.\u001b[0m\u001b[0maccuracy_score\u001b[0m\u001b[0;34m(\u001b[0m\u001b[0mactual\u001b[0m\u001b[0;34m,\u001b[0m\u001b[0mpred\u001b[0m\u001b[0;34m)\u001b[0m\u001b[0;34m\u001b[0m\u001b[0;34m\u001b[0m\u001b[0m\n\u001b[0m\u001b[1;32m      5\u001b[0m   \u001b[0mprecision\u001b[0m\u001b[0;34m=\u001b[0m \u001b[0mmetrics\u001b[0m\u001b[0;34m.\u001b[0m\u001b[0maverage_precision_score\u001b[0m\u001b[0;34m(\u001b[0m\u001b[0mactual\u001b[0m\u001b[0;34m,\u001b[0m\u001b[0mpred\u001b[0m\u001b[0;34m)\u001b[0m\u001b[0;34m\u001b[0m\u001b[0;34m\u001b[0m\u001b[0m\n\u001b[1;32m      6\u001b[0m   \u001b[0mf1_score\u001b[0m\u001b[0;34m=\u001b[0m \u001b[0mmetrics\u001b[0m\u001b[0;34m.\u001b[0m\u001b[0mf1_score\u001b[0m\u001b[0;34m(\u001b[0m\u001b[0mactual\u001b[0m\u001b[0;34m,\u001b[0m\u001b[0mpred\u001b[0m\u001b[0;34m)\u001b[0m\u001b[0;34m\u001b[0m\u001b[0;34m\u001b[0m\u001b[0m\n",
            "\u001b[0;32m/usr/local/lib/python3.6/dist-packages/sklearn/metrics/classification.py\u001b[0m in \u001b[0;36maccuracy_score\u001b[0;34m(y_true, y_pred, normalize, sample_weight)\u001b[0m\n\u001b[1;32m    174\u001b[0m \u001b[0;34m\u001b[0m\u001b[0m\n\u001b[1;32m    175\u001b[0m     \u001b[0;31m# Compute accuracy for each possible representation\u001b[0m\u001b[0;34m\u001b[0m\u001b[0;34m\u001b[0m\u001b[0;34m\u001b[0m\u001b[0m\n\u001b[0;32m--> 176\u001b[0;31m     \u001b[0my_type\u001b[0m\u001b[0;34m,\u001b[0m \u001b[0my_true\u001b[0m\u001b[0;34m,\u001b[0m \u001b[0my_pred\u001b[0m \u001b[0;34m=\u001b[0m \u001b[0m_check_targets\u001b[0m\u001b[0;34m(\u001b[0m\u001b[0my_true\u001b[0m\u001b[0;34m,\u001b[0m \u001b[0my_pred\u001b[0m\u001b[0;34m)\u001b[0m\u001b[0;34m\u001b[0m\u001b[0;34m\u001b[0m\u001b[0m\n\u001b[0m\u001b[1;32m    177\u001b[0m     \u001b[0mcheck_consistent_length\u001b[0m\u001b[0;34m(\u001b[0m\u001b[0my_true\u001b[0m\u001b[0;34m,\u001b[0m \u001b[0my_pred\u001b[0m\u001b[0;34m,\u001b[0m \u001b[0msample_weight\u001b[0m\u001b[0;34m)\u001b[0m\u001b[0;34m\u001b[0m\u001b[0;34m\u001b[0m\u001b[0m\n\u001b[1;32m    178\u001b[0m     \u001b[0;32mif\u001b[0m \u001b[0my_type\u001b[0m\u001b[0;34m.\u001b[0m\u001b[0mstartswith\u001b[0m\u001b[0;34m(\u001b[0m\u001b[0;34m'multilabel'\u001b[0m\u001b[0;34m)\u001b[0m\u001b[0;34m:\u001b[0m\u001b[0;34m\u001b[0m\u001b[0;34m\u001b[0m\u001b[0m\n",
            "\u001b[0;32m/usr/local/lib/python3.6/dist-packages/sklearn/metrics/classification.py\u001b[0m in \u001b[0;36m_check_targets\u001b[0;34m(y_true, y_pred)\u001b[0m\n\u001b[1;32m     69\u001b[0m     \u001b[0my_pred\u001b[0m \u001b[0;34m:\u001b[0m \u001b[0marray\u001b[0m \u001b[0;32mor\u001b[0m \u001b[0mindicator\u001b[0m \u001b[0mmatrix\u001b[0m\u001b[0;34m\u001b[0m\u001b[0;34m\u001b[0m\u001b[0m\n\u001b[1;32m     70\u001b[0m     \"\"\"\n\u001b[0;32m---> 71\u001b[0;31m     \u001b[0mcheck_consistent_length\u001b[0m\u001b[0;34m(\u001b[0m\u001b[0my_true\u001b[0m\u001b[0;34m,\u001b[0m \u001b[0my_pred\u001b[0m\u001b[0;34m)\u001b[0m\u001b[0;34m\u001b[0m\u001b[0;34m\u001b[0m\u001b[0m\n\u001b[0m\u001b[1;32m     72\u001b[0m     \u001b[0mtype_true\u001b[0m \u001b[0;34m=\u001b[0m \u001b[0mtype_of_target\u001b[0m\u001b[0;34m(\u001b[0m\u001b[0my_true\u001b[0m\u001b[0;34m)\u001b[0m\u001b[0;34m\u001b[0m\u001b[0;34m\u001b[0m\u001b[0m\n\u001b[1;32m     73\u001b[0m     \u001b[0mtype_pred\u001b[0m \u001b[0;34m=\u001b[0m \u001b[0mtype_of_target\u001b[0m\u001b[0;34m(\u001b[0m\u001b[0my_pred\u001b[0m\u001b[0;34m)\u001b[0m\u001b[0;34m\u001b[0m\u001b[0;34m\u001b[0m\u001b[0m\n",
            "\u001b[0;32m/usr/local/lib/python3.6/dist-packages/sklearn/utils/validation.py\u001b[0m in \u001b[0;36mcheck_consistent_length\u001b[0;34m(*arrays)\u001b[0m\n\u001b[1;32m    199\u001b[0m     \"\"\"\n\u001b[1;32m    200\u001b[0m \u001b[0;34m\u001b[0m\u001b[0m\n\u001b[0;32m--> 201\u001b[0;31m     \u001b[0mlengths\u001b[0m \u001b[0;34m=\u001b[0m \u001b[0;34m[\u001b[0m\u001b[0m_num_samples\u001b[0m\u001b[0;34m(\u001b[0m\u001b[0mX\u001b[0m\u001b[0;34m)\u001b[0m \u001b[0;32mfor\u001b[0m \u001b[0mX\u001b[0m \u001b[0;32min\u001b[0m \u001b[0marrays\u001b[0m \u001b[0;32mif\u001b[0m \u001b[0mX\u001b[0m \u001b[0;32mis\u001b[0m \u001b[0;32mnot\u001b[0m \u001b[0;32mNone\u001b[0m\u001b[0;34m]\u001b[0m\u001b[0;34m\u001b[0m\u001b[0;34m\u001b[0m\u001b[0m\n\u001b[0m\u001b[1;32m    202\u001b[0m     \u001b[0muniques\u001b[0m \u001b[0;34m=\u001b[0m \u001b[0mnp\u001b[0m\u001b[0;34m.\u001b[0m\u001b[0munique\u001b[0m\u001b[0;34m(\u001b[0m\u001b[0mlengths\u001b[0m\u001b[0;34m)\u001b[0m\u001b[0;34m\u001b[0m\u001b[0;34m\u001b[0m\u001b[0m\n\u001b[1;32m    203\u001b[0m     \u001b[0;32mif\u001b[0m \u001b[0mlen\u001b[0m\u001b[0;34m(\u001b[0m\u001b[0muniques\u001b[0m\u001b[0;34m)\u001b[0m \u001b[0;34m>\u001b[0m \u001b[0;36m1\u001b[0m\u001b[0;34m:\u001b[0m\u001b[0;34m\u001b[0m\u001b[0;34m\u001b[0m\u001b[0m\n",
            "\u001b[0;32m/usr/local/lib/python3.6/dist-packages/sklearn/utils/validation.py\u001b[0m in \u001b[0;36m<listcomp>\u001b[0;34m(.0)\u001b[0m\n\u001b[1;32m    199\u001b[0m     \"\"\"\n\u001b[1;32m    200\u001b[0m \u001b[0;34m\u001b[0m\u001b[0m\n\u001b[0;32m--> 201\u001b[0;31m     \u001b[0mlengths\u001b[0m \u001b[0;34m=\u001b[0m \u001b[0;34m[\u001b[0m\u001b[0m_num_samples\u001b[0m\u001b[0;34m(\u001b[0m\u001b[0mX\u001b[0m\u001b[0;34m)\u001b[0m \u001b[0;32mfor\u001b[0m \u001b[0mX\u001b[0m \u001b[0;32min\u001b[0m \u001b[0marrays\u001b[0m \u001b[0;32mif\u001b[0m \u001b[0mX\u001b[0m \u001b[0;32mis\u001b[0m \u001b[0;32mnot\u001b[0m \u001b[0;32mNone\u001b[0m\u001b[0;34m]\u001b[0m\u001b[0;34m\u001b[0m\u001b[0;34m\u001b[0m\u001b[0m\n\u001b[0m\u001b[1;32m    202\u001b[0m     \u001b[0muniques\u001b[0m \u001b[0;34m=\u001b[0m \u001b[0mnp\u001b[0m\u001b[0;34m.\u001b[0m\u001b[0munique\u001b[0m\u001b[0;34m(\u001b[0m\u001b[0mlengths\u001b[0m\u001b[0;34m)\u001b[0m\u001b[0;34m\u001b[0m\u001b[0;34m\u001b[0m\u001b[0m\n\u001b[1;32m    203\u001b[0m     \u001b[0;32mif\u001b[0m \u001b[0mlen\u001b[0m\u001b[0;34m(\u001b[0m\u001b[0muniques\u001b[0m\u001b[0;34m)\u001b[0m \u001b[0;34m>\u001b[0m \u001b[0;36m1\u001b[0m\u001b[0;34m:\u001b[0m\u001b[0;34m\u001b[0m\u001b[0;34m\u001b[0m\u001b[0m\n",
            "\u001b[0;32m/usr/local/lib/python3.6/dist-packages/sklearn/utils/validation.py\u001b[0m in \u001b[0;36m_num_samples\u001b[0;34m(x)\u001b[0m\n\u001b[1;32m    144\u001b[0m         \u001b[0;32mif\u001b[0m \u001b[0mlen\u001b[0m\u001b[0;34m(\u001b[0m\u001b[0mx\u001b[0m\u001b[0;34m.\u001b[0m\u001b[0mshape\u001b[0m\u001b[0;34m)\u001b[0m \u001b[0;34m==\u001b[0m \u001b[0;36m0\u001b[0m\u001b[0;34m:\u001b[0m\u001b[0;34m\u001b[0m\u001b[0;34m\u001b[0m\u001b[0m\n\u001b[1;32m    145\u001b[0m             raise TypeError(\"Singleton array %r cannot be considered\"\n\u001b[0;32m--> 146\u001b[0;31m                             \" a valid collection.\" % x)\n\u001b[0m\u001b[1;32m    147\u001b[0m         \u001b[0;31m# Check that shape is returning an integer or default to len\u001b[0m\u001b[0;34m\u001b[0m\u001b[0;34m\u001b[0m\u001b[0;34m\u001b[0m\u001b[0m\n\u001b[1;32m    148\u001b[0m         \u001b[0;31m# Dask dataframes may not return numeric shape[0] value\u001b[0m\u001b[0;34m\u001b[0m\u001b[0;34m\u001b[0m\u001b[0;34m\u001b[0m\u001b[0m\n",
            "\u001b[0;31mTypeError\u001b[0m: Singleton array 70011 cannot be considered a valid collection."
          ]
        }
      ]
    },
    {
      "cell_type": "code",
      "metadata": {
        "id": "IWXrIHAosFwM",
        "colab_type": "code",
        "outputId": "317fb9c8-9c77-49ad-ca3c-69052ad02e84",
        "colab": {
          "base_uri": "https://localhost:8080/",
          "height": 437
        }
      },
      "source": [
        "np.argmax(pred_value,axis=1)"
      ],
      "execution_count": 0,
      "outputs": [
        {
          "output_type": "execute_result",
          "data": {
            "text/plain": [
              "array([1, 0, 0, 0, 3, 0, 0, 0, 0, 2, 0, 0, 0, 0, 2, 2, 0, 2, 0, 1, 0, 0,\n",
              "       2, 0, 1, 0, 0, 0, 2, 2, 0, 1, 1, 0, 0, 0, 0, 2, 3, 2, 0, 0, 0, 1,\n",
              "       1, 0, 0, 2, 1, 2, 2, 0, 2, 2, 0, 2, 0, 0, 2, 0, 0, 2, 0, 2, 0, 0,\n",
              "       0, 0, 2, 2, 0, 0, 0, 2, 2, 0, 0, 0, 2, 0, 0, 0, 1, 0, 0, 2, 0, 2,\n",
              "       0, 2, 0, 2, 0, 0, 0, 0, 0, 2, 0, 0, 0, 1, 0, 2, 1, 1, 2, 0, 2, 2,\n",
              "       0, 0, 0, 2, 0, 2, 0, 0, 2, 2, 0, 0, 0, 2, 0, 2, 0, 0, 2, 0, 1, 0,\n",
              "       0, 0, 0, 2, 1, 0, 0, 0, 2, 3, 2, 2, 2, 0, 0, 1, 0, 0, 0, 0, 2, 2,\n",
              "       0, 0, 2, 1, 2, 2, 2, 0, 2, 2, 0, 0, 2, 0, 0, 0, 2, 2, 2, 0, 2, 0,\n",
              "       2, 0, 2, 2, 2, 0, 0, 1, 2, 0, 0, 0, 0, 2, 2, 0, 2, 2, 0, 2, 0, 0,\n",
              "       0, 0, 2, 0, 0, 2, 0, 2, 0, 1, 0, 0, 2, 2, 0, 0, 0, 2, 0, 2, 2, 0,\n",
              "       2, 2, 2, 2, 2, 2, 0, 1, 2, 2, 2, 0, 0, 2, 0, 2, 0, 0, 2, 0, 2, 0,\n",
              "       2, 2, 2, 2, 2, 2, 2, 0, 0, 0, 0, 2, 2, 2, 0, 2, 0, 2, 2, 1, 0, 0,\n",
              "       1, 2, 0, 0, 1, 0, 1, 0, 0, 0, 0, 0, 0, 0, 2, 2, 2, 0, 2, 0, 1, 1,\n",
              "       1, 0, 2, 2, 0, 2, 2, 2, 0, 2, 2, 0, 2, 0, 2, 0, 2, 0, 2, 0, 2, 0,\n",
              "       0, 0, 0, 2, 0, 0, 0, 0, 2, 2, 2, 1, 0, 0, 1, 2, 0, 2, 0, 0, 2, 0,\n",
              "       2, 2, 0, 1, 2, 2, 0, 0, 0, 2, 0, 0, 0, 2, 0, 2, 3, 2, 0, 1, 0, 0,\n",
              "       0, 2, 0, 2, 2, 0, 0, 0, 0, 1, 2, 0, 0, 2, 1, 2, 2, 0, 0, 0, 0, 2,\n",
              "       2, 2, 2, 2, 2, 2, 2, 0, 0, 0, 0, 2, 2, 0, 2, 0, 0, 0, 0, 2, 0, 2,\n",
              "       0, 0, 2, 2, 2, 0, 2, 2, 2, 2, 0, 2, 0, 2, 0, 0, 1, 0, 2, 1, 0, 2,\n",
              "       2, 2, 2, 0, 0, 0, 0, 2, 2, 2, 0, 2, 2, 2, 1, 2, 2, 2, 2, 2, 0, 0,\n",
              "       1, 0, 0, 0, 2, 0, 1, 2, 1, 2, 0, 1, 2, 2, 3, 2, 0, 2, 2, 1, 0, 0,\n",
              "       0, 0, 2, 1, 2, 0, 2, 2, 0, 2, 2, 0, 2, 2, 2, 2, 0, 2, 0, 0, 0, 0,\n",
              "       0, 2, 0, 2, 2, 0, 0, 2, 0, 0, 0, 2, 0, 1, 2, 2, 2, 0, 0, 2, 2, 2,\n",
              "       0, 2, 0, 2, 0, 0, 0, 0, 0, 0, 2, 1, 0, 0, 2, 0, 2, 0, 2, 0, 2, 2,\n",
              "       2, 0, 1, 2, 2, 2, 0, 0, 0, 0, 2, 1, 2, 2, 0, 0, 2, 1, 2, 0, 2, 0])"
            ]
          },
          "metadata": {
            "tags": []
          },
          "execution_count": 47
        }
      ]
    },
    {
      "cell_type": "code",
      "metadata": {
        "id": "YrHftilNhTue",
        "colab_type": "code",
        "outputId": "e9216b8c-b51f-437d-b6b2-7798c46f6c1d",
        "colab": {
          "base_uri": "https://localhost:8080/",
          "height": 437
        }
      },
      "source": [
        "np.argmax(val_labels, axis=1)"
      ],
      "execution_count": 0,
      "outputs": [
        {
          "output_type": "execute_result",
          "data": {
            "text/plain": [
              "array([2, 0, 0, 0, 3, 1, 0, 0, 0, 2, 0, 0, 0, 0, 2, 4, 0, 2, 0, 2, 0, 0,\n",
              "       2, 0, 1, 0, 0, 0, 2, 2, 0, 4, 1, 0, 0, 0, 0, 2, 2, 0, 0, 0, 0, 0,\n",
              "       1, 0, 0, 2, 1, 2, 2, 0, 3, 2, 0, 3, 0, 0, 2, 0, 0, 3, 0, 1, 0, 0,\n",
              "       0, 0, 4, 1, 0, 0, 0, 2, 3, 0, 0, 0, 3, 0, 0, 0, 2, 0, 0, 2, 0, 0,\n",
              "       0, 2, 1, 2, 0, 0, 0, 0, 2, 2, 0, 0, 0, 1, 0, 0, 2, 0, 2, 0, 2, 2,\n",
              "       0, 0, 0, 2, 0, 2, 0, 0, 3, 2, 0, 2, 0, 2, 0, 3, 0, 0, 3, 0, 2, 0,\n",
              "       0, 0, 0, 4, 2, 0, 2, 0, 2, 4, 2, 2, 4, 0, 0, 0, 0, 0, 0, 0, 2, 4,\n",
              "       0, 0, 2, 2, 2, 2, 2, 0, 4, 4, 0, 0, 2, 0, 2, 0, 2, 0, 2, 2, 3, 0,\n",
              "       2, 0, 2, 3, 2, 2, 0, 1, 1, 0, 0, 0, 0, 2, 3, 0, 2, 4, 0, 4, 0, 0,\n",
              "       0, 0, 0, 0, 0, 2, 0, 4, 0, 1, 0, 0, 2, 2, 0, 0, 0, 2, 0, 2, 2, 0,\n",
              "       2, 2, 1, 2, 1, 3, 0, 1, 2, 4, 2, 0, 0, 3, 0, 1, 0, 0, 2, 0, 2, 0,\n",
              "       2, 2, 1, 1, 2, 2, 4, 2, 0, 0, 0, 2, 2, 2, 0, 4, 0, 2, 4, 2, 0, 0,\n",
              "       1, 2, 0, 0, 3, 0, 1, 0, 0, 0, 0, 0, 0, 0, 0, 1, 1, 0, 2, 0, 0, 0,\n",
              "       1, 0, 2, 2, 0, 0, 2, 4, 0, 3, 4, 0, 2, 0, 4, 0, 2, 0, 2, 0, 3, 0,\n",
              "       0, 0, 0, 2, 2, 0, 0, 0, 1, 1, 1, 1, 0, 0, 2, 1, 0, 2, 0, 0, 2, 0,\n",
              "       2, 2, 0, 1, 2, 2, 0, 0, 4, 3, 0, 0, 0, 1, 0, 0, 4, 2, 0, 2, 0, 0,\n",
              "       0, 3, 0, 2, 3, 0, 0, 4, 0, 1, 2, 0, 0, 1, 2, 2, 1, 0, 0, 0, 0, 4,\n",
              "       2, 2, 1, 3, 1, 2, 2, 0, 0, 0, 0, 3, 3, 0, 2, 0, 2, 0, 0, 2, 0, 4,\n",
              "       0, 0, 2, 1, 1, 0, 1, 3, 4, 2, 0, 1, 0, 4, 0, 1, 1, 0, 3, 4, 0, 4,\n",
              "       2, 2, 2, 0, 0, 0, 0, 2, 2, 4, 0, 2, 4, 2, 2, 2, 1, 2, 2, 2, 0, 0,\n",
              "       4, 2, 4, 0, 2, 0, 1, 2, 1, 2, 0, 1, 4, 1, 2, 2, 0, 4, 4, 1, 0, 0,\n",
              "       0, 0, 1, 1, 3, 0, 4, 4, 0, 2, 2, 0, 4, 4, 2, 2, 0, 4, 0, 1, 0, 0,\n",
              "       0, 2, 0, 2, 3, 0, 0, 2, 0, 0, 0, 2, 0, 1, 2, 1, 2, 0, 0, 2, 2, 2,\n",
              "       0, 2, 0, 2, 0, 3, 0, 0, 0, 0, 4, 0, 0, 0, 3, 0, 2, 0, 2, 0, 4, 2,\n",
              "       0, 0, 1, 1, 4, 1, 0, 0, 0, 0, 2, 4, 2, 2, 0, 0, 2, 1, 0, 0, 2, 0])"
            ]
          },
          "metadata": {
            "tags": []
          },
          "execution_count": 49
        }
      ]
    },
    {
      "cell_type": "code",
      "metadata": {
        "id": "pnr4BnenhTtB",
        "colab_type": "code",
        "colab": {}
      },
      "source": [
        ""
      ],
      "execution_count": 0,
      "outputs": []
    },
    {
      "cell_type": "code",
      "metadata": {
        "id": "71c4sCQ3253O",
        "colab_type": "code",
        "colab": {}
      },
      "source": [
        ""
      ],
      "execution_count": 0,
      "outputs": []
    }
  ]
}